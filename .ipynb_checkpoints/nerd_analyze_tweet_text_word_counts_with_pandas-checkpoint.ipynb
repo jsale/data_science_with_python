{
 "cells": [
  {
   "cell_type": "markdown",
   "metadata": {},
   "source": [
    "<h1>Twitter Text Analysis With Pandas and Matplotlib</h1>\n",
    "<h2>Perform Word Counts From Tweet Text</h2>\n",
    "<p>In these lessons, you will learn how to do word frequency counts using the Twitter text.</p>\n",
    "<p>We will be working with a simplified version of the dataset by reducing it from JSON to a CSV (comma-separated values) format to and using pandas read_csv to open it. </p>\n",
    "<p>The original dataset was created using the Twitter Search API and searching on the hashtag 'nerd'. Tweets were collected every 15 minutes and saved to a file. After two weeks the files were processed to remove duplicate tweets and combined into a single file. Duplicate tweets are an artifact of requesting the maximum number of tweets for each 15 minute epoch. Twitter limits the Search API to 100 tweets per 15 minute epoch. They post 150 in their documentation but we have observed it to be 100. </p> \n"
   ]
  },
  {
   "cell_type": "code",
   "execution_count": 1,
   "metadata": {
    "scrolled": true
   },
   "outputs": [],
   "source": [
    "import csv\n",
    "import re\n",
    "import datetime\n",
    "import os\n",
    "import sys\n",
    "import math\n",
    "import matplotlib.pyplot as plt\n",
    "import pandas as pd\n",
    "from textblob import TextBlob\n",
    "from pprint import pprint"
   ]
  },
  {
   "cell_type": "code",
   "execution_count": 10,
   "metadata": {},
   "outputs": [
    {
     "data": {
      "text/html": [
       "<div>\n",
       "<style scoped>\n",
       "    .dataframe tbody tr th:only-of-type {\n",
       "        vertical-align: middle;\n",
       "    }\n",
       "\n",
       "    .dataframe tbody tr th {\n",
       "        vertical-align: top;\n",
       "    }\n",
       "\n",
       "    .dataframe thead th {\n",
       "        text-align: right;\n",
       "    }\n",
       "</style>\n",
       "<table border=\"1\" class=\"dataframe\">\n",
       "  <thead>\n",
       "    <tr style=\"text-align: right;\">\n",
       "      <th></th>\n",
       "      <th>tweet_id</th>\n",
       "      <th>tweet_created_at</th>\n",
       "      <th>language</th>\n",
       "      <th>user_screen_name</th>\n",
       "      <th>user_created_at</th>\n",
       "      <th>user_id</th>\n",
       "      <th>followers_count</th>\n",
       "      <th>friends_count</th>\n",
       "      <th>time_zone</th>\n",
       "      <th>utc_offset</th>\n",
       "      <th>retweeted_status</th>\n",
       "      <th>retweet_id</th>\n",
       "      <th>retweet_user_screen_name</th>\n",
       "      <th>retweet_user_id</th>\n",
       "    </tr>\n",
       "  </thead>\n",
       "  <tbody>\n",
       "    <tr>\n",
       "      <th>0</th>\n",
       "      <td>1018178822087192581</td>\n",
       "      <td>2018-07-14 17:02:02</td>\n",
       "      <td>es</td>\n",
       "      <td>Huntersephiroth</td>\n",
       "      <td>Mon Jan 02 22:18:36 +0000 2012</td>\n",
       "      <td>453415076</td>\n",
       "      <td>48</td>\n",
       "      <td>229</td>\n",
       "      <td>None</td>\n",
       "      <td>None</td>\n",
       "      <td>1</td>\n",
       "      <td>1018173447581720576</td>\n",
       "      <td>LuisGyG</td>\n",
       "      <td>824881</td>\n",
       "    </tr>\n",
       "    <tr>\n",
       "      <th>1</th>\n",
       "      <td>1018179236220297216</td>\n",
       "      <td>2018-07-14 17:03:41</td>\n",
       "      <td>en</td>\n",
       "      <td>WikakomSteam</td>\n",
       "      <td>Thu May 05 17:26:18 +0000 2016</td>\n",
       "      <td>728274635712770049</td>\n",
       "      <td>5589</td>\n",
       "      <td>3475</td>\n",
       "      <td>None</td>\n",
       "      <td>None</td>\n",
       "      <td>0</td>\n",
       "      <td>None</td>\n",
       "      <td>None</td>\n",
       "      <td>None</td>\n",
       "    </tr>\n",
       "    <tr>\n",
       "      <th>2</th>\n",
       "      <td>1018179317392650241</td>\n",
       "      <td>2018-07-14 17:04:00</td>\n",
       "      <td>en</td>\n",
       "      <td>Book4Creative</td>\n",
       "      <td>Sat Jul 15 18:30:51 +0000 2017</td>\n",
       "      <td>886291986596192258</td>\n",
       "      <td>24</td>\n",
       "      <td>29</td>\n",
       "      <td>None</td>\n",
       "      <td>None</td>\n",
       "      <td>1</td>\n",
       "      <td>987399508509282305</td>\n",
       "      <td>Book4Creative</td>\n",
       "      <td>886291986596192258</td>\n",
       "    </tr>\n",
       "    <tr>\n",
       "      <th>3</th>\n",
       "      <td>1018179688093478912</td>\n",
       "      <td>2018-07-14 17:05:29</td>\n",
       "      <td>en</td>\n",
       "      <td>Voldrega</td>\n",
       "      <td>Tue May 24 02:43:55 +0000 2011</td>\n",
       "      <td>304189053</td>\n",
       "      <td>314</td>\n",
       "      <td>405</td>\n",
       "      <td>None</td>\n",
       "      <td>None</td>\n",
       "      <td>0</td>\n",
       "      <td>None</td>\n",
       "      <td>None</td>\n",
       "      <td>None</td>\n",
       "    </tr>\n",
       "    <tr>\n",
       "      <th>4</th>\n",
       "      <td>1018180125697830912</td>\n",
       "      <td>2018-07-14 17:07:13</td>\n",
       "      <td>en</td>\n",
       "      <td>Voldrega</td>\n",
       "      <td>Tue May 24 02:43:55 +0000 2011</td>\n",
       "      <td>304189053</td>\n",
       "      <td>314</td>\n",
       "      <td>405</td>\n",
       "      <td>None</td>\n",
       "      <td>None</td>\n",
       "      <td>0</td>\n",
       "      <td>None</td>\n",
       "      <td>None</td>\n",
       "      <td>None</td>\n",
       "    </tr>\n",
       "  </tbody>\n",
       "</table>\n",
       "</div>"
      ],
      "text/plain": [
       "              tweet_id    tweet_created_at language user_screen_name  \\\n",
       "0  1018178822087192581 2018-07-14 17:02:02       es  Huntersephiroth   \n",
       "1  1018179236220297216 2018-07-14 17:03:41       en     WikakomSteam   \n",
       "2  1018179317392650241 2018-07-14 17:04:00       en    Book4Creative   \n",
       "3  1018179688093478912 2018-07-14 17:05:29       en         Voldrega   \n",
       "4  1018180125697830912 2018-07-14 17:07:13       en         Voldrega   \n",
       "\n",
       "                  user_created_at             user_id  followers_count  \\\n",
       "0  Mon Jan 02 22:18:36 +0000 2012           453415076               48   \n",
       "1  Thu May 05 17:26:18 +0000 2016  728274635712770049             5589   \n",
       "2  Sat Jul 15 18:30:51 +0000 2017  886291986596192258               24   \n",
       "3  Tue May 24 02:43:55 +0000 2011           304189053              314   \n",
       "4  Tue May 24 02:43:55 +0000 2011           304189053              314   \n",
       "\n",
       "   friends_count time_zone utc_offset  retweeted_status           retweet_id  \\\n",
       "0            229      None       None                 1  1018173447581720576   \n",
       "1           3475      None       None                 0                 None   \n",
       "2             29      None       None                 1   987399508509282305   \n",
       "3            405      None       None                 0                 None   \n",
       "4            405      None       None                 0                 None   \n",
       "\n",
       "  retweet_user_screen_name     retweet_user_id  \n",
       "0                  LuisGyG              824881  \n",
       "1                     None                None  \n",
       "2            Book4Creative  886291986596192258  \n",
       "3                     None                None  \n",
       "4                     None                None  "
      ]
     },
     "execution_count": 10,
     "metadata": {},
     "output_type": "execute_result"
    }
   ],
   "source": [
    "dftweet = pd.read_csv('csv/nerd_main.csv')\n",
    "dftweet.tweet_created_at = pd.to_datetime(dftweet.tweet_created_at)\n",
    "dftweet.head()"
   ]
  },
  {
   "cell_type": "code",
   "execution_count": 2,
   "metadata": {},
   "outputs": [
    {
     "data": {
      "text/html": [
       "<div>\n",
       "<style scoped>\n",
       "    .dataframe tbody tr th:only-of-type {\n",
       "        vertical-align: middle;\n",
       "    }\n",
       "\n",
       "    .dataframe tbody tr th {\n",
       "        vertical-align: top;\n",
       "    }\n",
       "\n",
       "    .dataframe thead th {\n",
       "        text-align: right;\n",
       "    }\n",
       "</style>\n",
       "<table border=\"1\" class=\"dataframe\">\n",
       "  <thead>\n",
       "    <tr style=\"text-align: right;\">\n",
       "      <th></th>\n",
       "      <th>tweet_id</th>\n",
       "      <th>text</th>\n",
       "    </tr>\n",
       "  </thead>\n",
       "  <tbody>\n",
       "    <tr>\n",
       "      <th>15364</th>\n",
       "      <td>1023257523082604544</td>\n",
       "      <td>Yo siendo gd nivel 1000 y no pienso parar jamá...</td>\n",
       "    </tr>\n",
       "    <tr>\n",
       "      <th>15365</th>\n",
       "      <td>1023257692087832576</td>\n",
       "      <td>What it looks like when you splash hot oil int...</td>\n",
       "    </tr>\n",
       "    <tr>\n",
       "      <th>15366</th>\n",
       "      <td>1023258269656199173</td>\n",
       "      <td>RT @DonnabellaMorte: Did anyone else have to d...</td>\n",
       "    </tr>\n",
       "    <tr>\n",
       "      <th>15367</th>\n",
       "      <td>1023258771953516544</td>\n",
       "      <td>RT @nerd100nerd: Sexta feira sua linda #Friday...</td>\n",
       "    </tr>\n",
       "    <tr>\n",
       "      <th>15368</th>\n",
       "      <td>1023259017278377984</td>\n",
       "      <td>LIVE We are live right now with more @BeatSabe...</td>\n",
       "    </tr>\n",
       "  </tbody>\n",
       "</table>\n",
       "</div>"
      ],
      "text/plain": [
       "                  tweet_id                                               text\n",
       "15364  1023257523082604544  Yo siendo gd nivel 1000 y no pienso parar jamá...\n",
       "15365  1023257692087832576  What it looks like when you splash hot oil int...\n",
       "15366  1023258269656199173  RT @DonnabellaMorte: Did anyone else have to d...\n",
       "15367  1023258771953516544  RT @nerd100nerd: Sexta feira sua linda #Friday...\n",
       "15368  1023259017278377984  LIVE We are live right now with more @BeatSabe..."
      ]
     },
     "execution_count": 2,
     "metadata": {},
     "output_type": "execute_result"
    }
   ],
   "source": [
    "dftext = pd.read_csv('csv/nerd_text.csv', encoding = \"ISO-8859-1\")\n",
    "dftext.tail()"
   ]
  },
  {
   "cell_type": "code",
   "execution_count": 3,
   "metadata": {},
   "outputs": [
    {
     "data": {
      "text/plain": [
       "'RT @LuisGyG: Hoy toca switch de teléfono y me estaré mudando al @motorola_mx #motoz3play Les cuento. \\x95 \\x95 \\x95 \\x95 \\x95 #electronics #glasses #geek\\x85'"
      ]
     },
     "execution_count": 3,
     "metadata": {},
     "output_type": "execute_result"
    }
   ],
   "source": [
    "dftext['text'][0]"
   ]
  },
  {
   "cell_type": "code",
   "execution_count": 4,
   "metadata": {},
   "outputs": [],
   "source": [
    "dates = pd.date_range('20130101', periods=6)"
   ]
  },
  {
   "cell_type": "code",
   "execution_count": 6,
   "metadata": {},
   "outputs": [
    {
     "data": {
      "text/plain": [
       "15364    Yo siendo gd nivel 1000 y no pienso parar jamá...\n",
       "Name: text, dtype: object"
      ]
     },
     "execution_count": 6,
     "metadata": {},
     "output_type": "execute_result"
    }
   ],
   "source": [
    "id_var = 1023257523082604544\n",
    "dftext[dftext.tweet_id == id_var].text"
   ]
  },
  {
   "cell_type": "code",
   "execution_count": 11,
   "metadata": {},
   "outputs": [],
   "source": [
    "topretweets = dftweet.groupby('retweet_id').size().sort_values(ascending=False).reset_index()"
   ]
  },
  {
   "cell_type": "code",
   "execution_count": 12,
   "metadata": {},
   "outputs": [
    {
     "name": "stdout",
     "output_type": "stream",
     "text": [
      "4843    ¡Es oficial!  el 16 de Agosto será el estreno ...\n",
      "Name: text, dtype: object\n",
      "5185    NEW #PODCAST! This week were joined by Steven...\n",
      "Name: text, dtype: object\n",
      "9566    This picture won the Internet for me today!  R...\n",
      "Name: text, dtype: object\n",
      "14230    Did anyone else have to diagram sentences in g...\n",
      "Name: text, dtype: object\n",
      "12071    How do I know Im losing my eyesight? I CAN NO...\n",
      "Name: text, dtype: object\n",
      "6699    Follow @GeekSquee Retweet and Like for a chanc...\n",
      "Name: text, dtype: object\n",
      "13969    201820NEXTFUJI ROCK FESTIVAL '183515&lt;DAY1&g...\n",
      "Name: text, dtype: object\n",
      "14048    Fairly guilty of this... #DoctorWho #DrWho #Ta...\n",
      "Name: text, dtype: object\n",
      "5489    Ya falta poco para el estreno de #PlanV @planv...\n",
      "Name: text, dtype: object\n",
      "12236    My newest post is about my reading quirks and ...\n",
      "Name: text, dtype: object\n",
      "4545    Me years from now:Spurs fan: Why did Kawhi lea...\n",
      "Name: text, dtype: object\n",
      "5238    Kanojo wa dare to demo sex surufull hentai - h...\n",
      "Name: text, dtype: object\n",
      "12932    Coming for that 4.0 this semester again #GramF...\n",
      "Name: text, dtype: object\n",
      "6886    The Holy Grail of my #TMNT collection! I wou...\n",
      "Name: text, dtype: object\n",
      "10109    Zatanna makes my believe in magic...and myself...\n",
      "Name: text, dtype: object\n",
      "2160    Mmm dónde lo he visto?  esos diseñadores lo vu...\n",
      "Name: text, dtype: object\n",
      "9937    Forever Our Princess @Etsy #PrincessLeia #Leia...\n",
      "Name: text, dtype: object\n",
      "3240    CUTE Nerd Girl or SEXY Nerd Girl ?Choose your ...\n",
      "Name: text, dtype: object\n"
     ]
    }
   ],
   "source": [
    "for i in range(1,19):\n",
    "    id_var = topretweets['retweet_id'][i]\n",
    "#     print(id_var)\n",
    "#     print(str(id_var))\n",
    "    print(dftext[dftext.tweet_id == int(id_var)].text)"
   ]
  },
  {
   "cell_type": "code",
   "execution_count": 13,
   "metadata": {},
   "outputs": [
    {
     "data": {
      "text/plain": [
       "'1019765122468892672'"
      ]
     },
     "execution_count": 13,
     "metadata": {},
     "output_type": "execute_result"
    }
   ],
   "source": [
    "topretweets['retweet_id'][1]"
   ]
  },
  {
   "cell_type": "code",
   "execution_count": null,
   "metadata": {},
   "outputs": [],
   "source": []
  }
 ],
 "metadata": {
  "kernelspec": {
   "display_name": "Python 3",
   "language": "python",
   "name": "python3"
  },
  "language_info": {
   "codemirror_mode": {
    "name": "ipython",
    "version": 3
   },
   "file_extension": ".py",
   "mimetype": "text/x-python",
   "name": "python",
   "nbconvert_exporter": "python",
   "pygments_lexer": "ipython3",
   "version": "3.5.4"
  }
 },
 "nbformat": 4,
 "nbformat_minor": 2
}
