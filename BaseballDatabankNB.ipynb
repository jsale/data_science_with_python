{
 "cells": [
  {
   "cell_type": "code",
   "execution_count": null,
   "metadata": {},
   "outputs": [],
   "source": [
    "# load BaseballDataBank.py\n",
    "import pandas as pd\n",
    "import glob, os\n",
    "import seaborn as sns\n",
    "import matplotlib as mpl\n",
    "import matplotlib.pyplot as plt\n",
    "from sqlalchemy import create_engine"
   ]
  },
  {
   "cell_type": "markdown",
   "metadata": {},
   "source": [
    "## Reading in BaseballDatabank csv files"
   ]
  },
  {
   "cell_type": "code",
   "execution_count": null,
   "metadata": {},
   "outputs": [],
   "source": [
    "%ls baseballdatabank/core"
   ]
  },
  {
   "cell_type": "code",
   "execution_count": null,
   "metadata": {},
   "outputs": [],
   "source": [
    "def read_all_databank_core_csv(directory):\n",
    "    \"\"\"\n",
    "    read all csv files in the specified baseball databank directory and\n",
    "    populate a dictionary storing each of the tables keyed to its name\n",
    "    \"\"\"\n",
    "    dfs = {}\n",
    "    files = glob.glob('{}/*.csv'.format(directory))\n",
    "    for f in files:\n",
    "        d, name = os.path.split(f)\n",
    "        table = os.path.splitext(name)[0]\n",
    "        df = pd.read_csv(f)\n",
    "        dfs[table] = df\n",
    "    return dfs\n",
    "\n",
    "bbdfs = read_all_databank_core_csv('baseballdatabank/core')\n",
    "\n",
    "# extract a few for further processing\n",
    "batting = bbdfs['Batting']\n",
    "pitching = bbdfs['Pitching']\n",
    "teams = bbdfs['Teams']"
   ]
  },
  {
   "cell_type": "markdown",
   "metadata": {},
   "source": [
    "## Taking a peek\n",
    "### batting is year-by-year for each individual player\n",
    "### teams is year-by-year for each team"
   ]
  },
  {
   "cell_type": "code",
   "execution_count": null,
   "metadata": {},
   "outputs": [],
   "source": [
    "pd.options.display.max_colwidth = 350"
   ]
  },
  {
   "cell_type": "code",
   "execution_count": null,
   "metadata": {},
   "outputs": [],
   "source": [
    "batting.head()"
   ]
  },
  {
   "cell_type": "code",
   "execution_count": null,
   "metadata": {},
   "outputs": [],
   "source": [
    "pitching.columns"
   ]
  },
  {
   "cell_type": "code",
   "execution_count": null,
   "metadata": {},
   "outputs": [],
   "source": [
    "teams.head()"
   ]
  },
  {
   "cell_type": "markdown",
   "metadata": {},
   "source": [
    "## Filtering data (Hank Aaron's year-by-year batting statistics)"
   ]
  },
  {
   "cell_type": "code",
   "execution_count": null,
   "metadata": {},
   "outputs": [],
   "source": [
    "batting[batting.playerID=='aaronha01']"
   ]
  },
  {
   "cell_type": "markdown",
   "metadata": {},
   "source": [
    "## Aggregating data (Hank Aaron's career batting statistics)"
   ]
  },
  {
   "cell_type": "code",
   "execution_count": null,
   "metadata": {},
   "outputs": [],
   "source": [
    "batting[batting.playerID=='aaronha01'].sum(numeric_only=True).drop(['yearID']).astype(int)"
   ]
  },
  {
   "cell_type": "markdown",
   "metadata": {},
   "source": [
    "## Adding derived data: calculating singles (1B) from H,2B,3B,HR"
   ]
  },
  {
   "cell_type": "code",
   "execution_count": null,
   "metadata": {},
   "outputs": [],
   "source": [
    "batting['1B'] = batting['H'] - batting['2B'] - batting['3B'] - batting['HR']\n",
    "teams['1B'] = teams['H'] - teams['2B'] - teams['3B'] - teams['HR']\n",
    "batting.head()"
   ]
  },
  {
   "cell_type": "markdown",
   "metadata": {},
   "source": [
    "## A succinct history of hitting in baseball\n",
    "### (time progresses from light to dark)"
   ]
  },
  {
   "cell_type": "code",
   "execution_count": null,
   "metadata": {},
   "outputs": [],
   "source": [
    "batting_by_year = batting.groupby('yearID').sum().reset_index()\n",
    "hit_vars = ['1B', '2B', '3B', 'HR', 'SO', 'BB']"
   ]
  },
  {
   "cell_type": "code",
   "execution_count": null,
   "metadata": {},
   "outputs": [],
   "source": [
    "#pg = sns.pairplot(batting_by_year, size=2, vars=hit_vars, hue='yearID', palette='Blues')\n",
    "#pg.hue_names = [\"_nolegend_\"]\n",
    "g = sns.PairGrid(batting_by_year, vars=hit_vars, hue='yearID', palette='Blues')\n",
    "g = g.map_offdiag(plt.scatter, edgecolor=\"w\", s=40)\n",
    "# g = g.map_diag(plt.hist, edgecolor=\"w\")"
   ]
  },
  {
   "cell_type": "code",
   "execution_count": null,
   "metadata": {},
   "outputs": [],
   "source": [
    "pg = sns.pairplot(batting_by_year, height=2, vars=hit_vars, hue='yearID', palette='Blues')"
   ]
  },
  {
   "cell_type": "markdown",
   "metadata": {},
   "source": [
    "## The correlation of hitting statistics"
   ]
  },
  {
   "cell_type": "code",
   "execution_count": null,
   "metadata": {},
   "outputs": [],
   "source": [
    "sns.heatmap(batting_by_year[hit_vars].corr(), annot=True)"
   ]
  },
  {
   "cell_type": "markdown",
   "metadata": {},
   "source": [
    "## Grouping batting data by player"
   ]
  },
  {
   "cell_type": "code",
   "execution_count": null,
   "metadata": {},
   "outputs": [],
   "source": [
    "pl_bat = batting.groupby('playerID').sum().reset_index()\n",
    "bbdfs['CareerBatting'] = pl_bat\n",
    "pl_bat.head()"
   ]
  },
  {
   "cell_type": "markdown",
   "metadata": {},
   "source": [
    "## Adding more derived data: The Slash Line (BA / OBP / SLG)"
   ]
  },
  {
   "cell_type": "code",
   "execution_count": null,
   "metadata": {},
   "outputs": [],
   "source": [
    "pl_bat['BA']= pl_bat['H'] / pl_bat['AB']\n",
    "pl_bat['OBP'] = (pl_bat['H']+pl_bat['BB']+pl_bat['HBP']) / (pl_bat['AB']+pl_bat['BB']+pl_bat['HBP']+pl_bat['SF'])\n",
    "pl_bat['SLG'] = (pl_bat['1B']+2*pl_bat['2B']+3*pl_bat['3B']+4*pl_bat['HR']) / pl_bat['AB']\n",
    "pl_bat.head()"
   ]
  },
  {
   "cell_type": "markdown",
   "metadata": {},
   "source": [
    "## Filtering data part 2\n",
    "### Top all-time slugging percentages (at least 100 AB)"
   ]
  },
  {
   "cell_type": "code",
   "execution_count": null,
   "metadata": {},
   "outputs": [],
   "source": [
    "pl_bat[pl_bat.AB >= 100].sort_values(by='SLG', ascending=False).head(30)"
   ]
  },
  {
   "cell_type": "markdown",
   "metadata": {},
   "source": [
    "## Sabermetrics: the \"Pythagorean\" theorem of baseball"
   ]
  },
  {
   "cell_type": "code",
   "execution_count": null,
   "metadata": {},
   "outputs": [],
   "source": [
    "teams['Observed_WinRatio'] = teams.W/teams.G\n",
    "teams['Expected_WinRatio_183'] = 1 / (1 + (teams.RA/teams.R)**1.83)\n",
    "teams['Expected_WinRatio_2'] = 1 / (1 + (teams.RA/teams.R)**2)\n",
    "teams['Overachieving'] = teams['Observed_WinRatio']/teams['Expected_WinRatio_183']\n",
    "teams['Fraction_Runs'] = teams.R/(teams.R + teams.RA)\n",
    "teams.plot.scatter('Expected_WinRatio_2', 'Observed_WinRatio')\n",
    "\n"
   ]
  },
  {
   "cell_type": "markdown",
   "metadata": {},
   "source": [
    "## Writing all the dataframes to a SQL database"
   ]
  },
  {
   "cell_type": "code",
   "execution_count": null,
   "metadata": {},
   "outputs": [],
   "source": [
    "def write_all_tables_to_sqlite(dfs, sql_filename):\n",
    "    engine = create_engine('sqlite:///{}'.format(sql_filename))\n",
    "    for table, df in dfs.items():\n",
    "        df.to_sql(table, con=engine, index=False)\n",
    "    engine.dispose()\n",
    "    \n",
    "sqlite_filename = 'bbdb.sqlite'\n",
    "try:\n",
    "    os.remove(sqlite_filename)\n",
    "except FileNotFoundError:\n",
    "    pass\n",
    "write_all_tables_to_sqlite(bbdfs, sqlite_filename)\n",
    "\n"
   ]
  },
  {
   "cell_type": "markdown",
   "metadata": {},
   "source": [
    "## Make SQL query to Baseball DB"
   ]
  },
  {
   "cell_type": "code",
   "execution_count": null,
   "metadata": {},
   "outputs": [],
   "source": [
    "engine = create_engine('sqlite:///bbdb.sqlite')\n",
    "\n",
    "top_slugging = pd.read_sql_query('select * from CareerBatting where AB>= 100 order by SLG desc limit 30', engine)\n",
    "top_slugging"
   ]
  },
  {
   "cell_type": "markdown",
   "metadata": {},
   "source": [
    "## More history: the saga of Home Runs"
   ]
  },
  {
   "cell_type": "code",
   "execution_count": null,
   "metadata": {},
   "outputs": [],
   "source": [
    "ax = batting_by_year.plot('yearID', 'HR', figsize=(16,8))\n",
    "annot1920 = plt.text(1920, 0, '<End of dead ball era')\n",
    "annot1942 = plt.text(1942, 400, '<WW2')\n",
    "annot1961 = plt.text(1961, 1200, '<3 teams added to AL')\n",
    "annot1962 = plt.text(1962, 1400, '<2 teams added to NL')\n",
    "annot1969 = plt.text(1969, 1600, '<2 teams added to both AL + NL')\n",
    "annot1995 = plt.text(1995, 3000, '<Steroids rampant')\n",
    "annot2003 = plt.text(2003, 3500, '<Steroids tested for')\n",
    "annot2015 = plt.text(2015, 4000, '<Fascination with launch angle / strikeouts be damned')"
   ]
  },
  {
   "cell_type": "code",
   "execution_count": null,
   "metadata": {},
   "outputs": [],
   "source": [
    "ax = batting_by_year.plot('yearID', 'HR', figsize=(16,8))"
   ]
  },
  {
   "cell_type": "markdown",
   "metadata": {},
   "source": [
    "## Correcting for demographics: HR per AB"
   ]
  },
  {
   "cell_type": "code",
   "execution_count": null,
   "metadata": {},
   "outputs": [],
   "source": [
    "batting_by_year = batting.groupby('yearID').sum().reset_index()\n",
    "batting_by_year.set_index('yearID', inplace=True)\n",
    "batting_by_year_perAB = batting_by_year.div(batting_by_year.AB, axis=0).reset_index()\n",
    "batting_by_year.reset_index(inplace=True)"
   ]
  },
  {
   "cell_type": "code",
   "execution_count": null,
   "metadata": {},
   "outputs": [],
   "source": [
    "ax = batting_by_year_perAB.plot('yearID', 'HR', figsize=(16,8))\n",
    "annot1920 = plt.text(1920, 0.001, '<End of dead ball era')\n",
    "annot1942 = plt.text(1942, 0.009, '<WW2')\n",
    "annot1961 = plt.text(1961, 0.013, '<3 teams added to AL')\n",
    "annot1962 = plt.text(1962, 0.014, '<2 teams added to NL')\n",
    "annot1969 = plt.text(1969, 0.015, '<2 teams added to both AL + NL')\n",
    "annot1995 = plt.text(1995, 0.020, '<Steroids rampant')\n",
    "annot2003 = plt.text(2003, 0.0225, '<Steroids tested for')\n",
    "annot2015 = plt.text(2015, 0.025, '<Fascination with launch angle / strikeouts be damned')"
   ]
  },
  {
   "cell_type": "code",
   "execution_count": null,
   "metadata": {},
   "outputs": [],
   "source": [
    "pitching_by_year = pitching.groupby('yearID').sum().reset_index()"
   ]
  },
  {
   "cell_type": "code",
   "execution_count": null,
   "metadata": {},
   "outputs": [],
   "source": [
    "pitching_by_year.set_index('yearID', inplace=True)"
   ]
  },
  {
   "cell_type": "code",
   "execution_count": null,
   "metadata": {},
   "outputs": [],
   "source": [
    "pitching_by_year_perIPouts = pitching_by_year.div(pitching_by_year.IPouts, axis=0).reset_index()"
   ]
  },
  {
   "cell_type": "code",
   "execution_count": null,
   "metadata": {},
   "outputs": [],
   "source": [
    "pitching_by_year_perIPouts"
   ]
  },
  {
   "cell_type": "code",
   "execution_count": null,
   "metadata": {},
   "outputs": [],
   "source": [
    "pitching_by_year.reset_index(inplace=True)"
   ]
  },
  {
   "cell_type": "code",
   "execution_count": null,
   "metadata": {},
   "outputs": [],
   "source": [
    "ax = pitching_by_year_perIPouts.plot('yearID', 'SO', figsize=(16,8))\n",
    "annot1920 = plt.text(1920, 0.05, '<End of dead ball era')\n",
    "annot1942 = plt.text(1942, 0.09, '<WW2')\n",
    "annot1961 = plt.text(1961, 0.13, '<3 teams added to AL')\n",
    "annot1962 = plt.text(1962, 0.14, '<2 teams added to NL')\n",
    "annot1969 = plt.text(1969, 0.15, '<2 teams added to both AL + NL')\n",
    "annot1995 = plt.text(1995, 0.20, '<Steroids rampant')\n",
    "annot2003 = plt.text(2003, 0.225, '<Steroids tested for')\n",
    "annot2015 = plt.text(2015, 0.25, '<Fascination with launch angle / strikeouts be damned')"
   ]
  },
  {
   "cell_type": "code",
   "execution_count": null,
   "metadata": {},
   "outputs": [],
   "source": []
  }
 ],
 "metadata": {
  "kernelspec": {
   "display_name": "Python 3",
   "language": "python",
   "name": "python3"
  },
  "language_info": {
   "codemirror_mode": {
    "name": "ipython",
    "version": 3
   },
   "file_extension": ".py",
   "mimetype": "text/x-python",
   "name": "python",
   "nbconvert_exporter": "python",
   "pygments_lexer": "ipython3",
   "version": "3.5.4"
  }
 },
 "nbformat": 4,
 "nbformat_minor": 2
}
