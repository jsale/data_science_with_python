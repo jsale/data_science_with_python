{
 "cells": [
  {
   "cell_type": "markdown",
   "metadata": {},
   "source": [
    "<h1>Simplify the Dataset By Converting JSON to CSV and Extracting Subset of Parameters</h1>\n",
    "<p>In this example, we reduce the dataset from ~70 Mb down to ~5 Mb, and we will save two files, one containing basic tweet parameters and the other containing tweet text. This is probably not necessary for such a small dataset but it becomes useful when working with much larger datasets consisting of millions of tweets.</p>\n",
    "<p>The dataset we will be working with was created using the Twitter Search API and searching on the hashtag 'nerd'. Tweets were collected every 15 minutes and saved to a file. After two weeks the files were processed to remove duplicate tweets and combined into a single file. Duplicate tweets are an artifact of requesting the maximum number of tweets for each 15 minute epoch. Twitter limits the Search API to 100 tweets per 15 minute epoch. They post 150 in their documentation but we have observed it to be 100. </p> "
   ]
  },
  {
   "cell_type": "code",
   "execution_count": null,
   "metadata": {},
   "outputs": [],
   "source": [
    "# Load packages\n",
    "import os\n",
    "import sys\n",
    "import json\n",
    "import datetime\n",
    "from pprint import pprint"
   ]
  },
  {
   "cell_type": "code",
   "execution_count": null,
   "metadata": {},
   "outputs": [],
   "source": [
    "# Open output csv files\n",
    "\n",
    "print(\"Start:\" + str(datetime.datetime.now()))\n",
    "output_dir = \"csv/\"\n",
    "hashtag = \"nerd\"\n",
    "main_output_file = output_dir + hashtag + \"_main.csv\"\n",
    "text_output_file = output_dir + hashtag + \"_text.csv\"\n",
    "# entities_output_file = output_dir + hashtag + \"_entities.csv\"\n",
    "\n",
    "f_main = open(main_output_file, 'w')\n",
    "main_outputstring = \"tweet_id,tweet_created_at,language,user_screen_name,user_created_at,user_id,followers_count,friends_count,time_zone,utc_offset,retweeted_status,retweet_id,retweet_user_screen_name,retweet_user_id\\n\"\n",
    "f_main.write(main_outputstring)\n",
    "f_text = open(text_output_file, 'w', errors='ignore')\n",
    "text_outputstring = \"tweet_id,text\\n\"\n",
    "f_text.write(text_outputstring)\n",
    "# f_entities = open(entities_output_file, \"w\")\n",
    "\n",
    "inc = 0\n",
    "val = 0\n",
    "val_inc = 0\n",
    "input_dir = 'tweet_data/'\n",
    "filenames = next(os.walk(input_dir))[2]\n",
    "for filename in filenames:\n",
    "    with open(input_dir + filename, 'r') as f:\n",
    "        print(\"Working on file:\" + filename)\n",
    "        data = json.load(f)\n",
    "        for tweet in data:\n",
    "            if 'user' in tweet:\n",
    "                tweet_id = tweet['id']\n",
    "                tweet_created_at = tweet['created_at']\n",
    "                text = re.sub(',', '', tweet['text'])\n",
    "                text = \"\\\"\" + re.sub('[\\n\\r]', '', text) + \"\\\"\"\n",
    "                language = tweet['lang']\n",
    "                user_screen_name = tweet['user']['screen_name']\n",
    "                user_created_at = tweet['user']['created_at']\n",
    "                user_id = tweet['user']['id']\n",
    "                followers_count = tweet['user']['followers_count']\n",
    "                friends_count = tweet['user']['friends_count']\n",
    "                utc_offset = tweet['user']['utc_offset']\n",
    "                time_zone = tweet['user']['time_zone']\n",
    "                if 'retweeted_status' in tweet:\n",
    "                    retweeted_status = 1\n",
    "                    retweet_id = tweet['retweeted_status']['id']\n",
    "                    retweet_user_screen_name = tweet['retweeted_status']['user']['screen_name']\n",
    "                    retweet_user_id = tweet['retweeted_status']['user']['id']\n",
    "                else:\n",
    "                    retweeted_status = 0\n",
    "                    retweet_id = \"None\"\n",
    "                    retweet_user_screen_name = \"None\"\n",
    "                    retweet_user_id = \"None\"\n",
    "                main_outputstring = str(tweet_id) + \",\" + str(tweet_created_at) + \",\" + str(language) + \",\" + user_screen_name + \",\" + user_created_at + \",\" + str(user_id) + \",\" + str(followers_count) + \",\" + str(friends_count) + \",\" + str(time_zone) + \",\" + str(utc_offset) + \",\" + str(retweeted_status) + \",\" + str(retweet_id) + \",\" + retweet_user_screen_name + \",\" + str(retweet_user_id) + \"\\n\" \n",
    "                f_main.write(main_outputstring)\n",
    "                text_outputstring = str(tweet_id) + \",\" + str(text) + \"\\n\"\n",
    "                f_text.write(text_outputstring)\n",
    "#                 hashtags = \"\"\n",
    "#                 if len(tweet['entities']['hashtags']) > 0:\n",
    "#                     for i in range(len(tweet['entities']['hashtags'])):\n",
    "#                         hashtags = hashtags + tweet['entities']['hashtags'][i] + \"~\"\n",
    "#                 entities_outputstring = str(tweet_id) + \",\" + hashtags + \"\\n\"\n",
    "#                 f_entities.write(entities_outputstring)\n",
    "                inc += 1\n",
    "                val_inc += 1\n",
    "                if val_inc > 10000:\n",
    "                    val = val + 10000\n",
    "                    print(str(val))\n",
    "                    val_inc = 0\n",
    "#                 if inc > 1000:\n",
    "#                     break\n",
    "f.close()\n",
    "f_main.close()\n",
    "f_text.close()\n",
    "# f_entities.close()\n",
    "print(\"End:\" + str(datetime.datetime.now()))"
   ]
  },
  {
   "cell_type": "code",
   "execution_count": null,
   "metadata": {},
   "outputs": [],
   "source": [
    "print(\"Total number of tweets:\" + str(inc-1))"
   ]
  },
  {
   "cell_type": "code",
   "execution_count": null,
   "metadata": {},
   "outputs": [],
   "source": []
  }
 ],
 "metadata": {
  "kernelspec": {
   "display_name": "Python 3",
   "language": "python",
   "name": "python3"
  },
  "language_info": {
   "codemirror_mode": {
    "name": "ipython",
    "version": 3
   },
   "file_extension": ".py",
   "mimetype": "text/x-python",
   "name": "python",
   "nbconvert_exporter": "python",
   "pygments_lexer": "ipython3",
   "version": "3.5.4"
  }
 },
 "nbformat": 4,
 "nbformat_minor": 2
}
