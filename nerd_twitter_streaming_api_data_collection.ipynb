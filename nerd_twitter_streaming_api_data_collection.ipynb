{
 "cells": [
  {
   "cell_type": "markdown",
   "metadata": {},
   "source": [
    "<h1>Data Collection Using the Twitter Streaming API</h1>\n",
    "<p>In this example we show how to collect tweets for hashtag #nerd using the Twitter Streaming API. Some of the parameters require you to fill them in using your own authentication keys and tokens as described below.</p>"
   ]
  },
  {
   "cell_type": "code",
   "execution_count": null,
   "metadata": {},
   "outputs": [],
   "source": [
    "# -*- coding: utf-8 -*-\n",
    "\"\"\"\n",
    "Created on Sat Oct 27 08:59:27 2018\n",
    "Updated numerous times...\n",
    "\n",
    "@author: XSEDE\n",
    "\"\"\""
   ]
  },
  {
   "cell_type": "markdown",
   "metadata": {},
   "source": [
    "<h2>Import Libraries</h2>\n",
    "<p>Import necessary Python libraries, in particular tweepy. </p>"
   ]
  },
  {
   "cell_type": "code",
   "execution_count": null,
   "metadata": {},
   "outputs": [],
   "source": [
    "# Import necessary libraries\n",
    "import re\n",
    "import datetime\n",
    "from __future__ import absolute_import, print_function\n",
    "\n",
    "from tweepy.streaming import StreamListener\n",
    "from tweepy import OAuthHandler\n",
    "from tweepy import Stream"
   ]
  },
  {
   "cell_type": "markdown",
   "metadata": {},
   "source": [
    "<h2>Create An Application</h2>\n",
    "<p>Before you can collect Twitter data you must create a Twitter application which includes authenticates you as a Twitter Developer. Visit https://developer.twitter.com/en/docs/basics/apps for more details. Once you complete the process you will be provided the necessary authentication keys and tokens with which you can fill in as needed below. </p>"
   ]
  },
  {
   "cell_type": "code",
   "execution_count": null,
   "metadata": {},
   "outputs": [],
   "source": [
    "consumer_key=\"your_consumer_key\"\n",
    "consumer_secret=\"your_consumer_secret\""
   ]
  },
  {
   "cell_type": "markdown",
   "metadata": {},
   "source": [
    "After the step above, you will be redirected to your app's page.\n",
    "Create an access token under the the \"Your access token\" section"
   ]
  },
  {
   "cell_type": "code",
   "execution_count": null,
   "metadata": {},
   "outputs": [],
   "source": [
    "access_token=\"your_access_token\"\n",
    "access_token_secret=\"your_access_token_secret\""
   ]
  },
  {
   "cell_type": "markdown",
   "metadata": {},
   "source": [
    "<h2>Open Output File</h2>\n",
    "<p>Create variables to use for output file and tweet filter including hashtag and date/time stamp. We will also need to replace special characters in the date/time stamp with an underscore to make files more manageable. </p>"
   ]
  },
  {
   "cell_type": "code",
   "execution_count": null,
   "metadata": {},
   "outputs": [],
   "source": [
    "hashtag = \"nerd\"\n",
    "date_time_temp = str(datetime.datetime.now())\n",
    "\n",
    "# Replace all characters except letters and numbers with \"_\" for filename\n",
    "current_date_time = re.sub('[^a-zA-Z0-9]','_', date_time_temp)\n",
    "file_out = open(hashtag + \"_\" + current_date_time + \".json\", 'a')"
   ]
  },
  {
   "cell_type": "markdown",
   "metadata": {},
   "source": [
    "<h2>Collect Tweets</h2>\n",
    "<p>Here we create a StreamListener class and use it to continually gather tweets with hashtag 'nerd' using the Twitter Streaming API and save each tweet to our output file. </p>"
   ]
  },
  {
   "cell_type": "code",
   "execution_count": null,
   "metadata": {},
   "outputs": [],
   "source": [
    "# Define the Stream Listener\n",
    "class StdOutListener(StreamListener):\n",
    "    \"\"\" A listener handles tweets that are received from the stream.\n",
    "    This is a basic listener that just prints received tweets to stdout.\n",
    "\n",
    "    \"\"\"\n",
    "    def on_data(self, data):\n",
    "        print(data) # Print output to console\n",
    "        file_out.write(data) # Write output to file\n",
    "        return True\n",
    "\n",
    "    def on_error(self, status):\n",
    "        print(status)\n",
    "\n",
    "# Run the main program and collect tweets with hashtag \"nerd\"\n",
    "if __name__ == '__main__':\n",
    "    l = StdOutListener()\n",
    "    auth = OAuthHandler(consumer_key, consumer_secret)\n",
    "    auth.set_access_token(access_token, access_token_secret)\n",
    "\n",
    "    stream = Stream(auth, l)\n",
    "    stream.filter(track=['nerd'])"
   ]
  },
  {
   "cell_type": "markdown",
   "metadata": {},
   "source": [
    "<h2>Close the Output File</h2>\n",
    "<p>Be sure to close your file before working with it. </p>"
   ]
  },
  {
   "cell_type": "code",
   "execution_count": null,
   "metadata": {},
   "outputs": [],
   "source": [
    "file_out.close()"
   ]
  },
  {
   "cell_type": "code",
   "execution_count": null,
   "metadata": {},
   "outputs": [],
   "source": []
  },
  {
   "cell_type": "code",
   "execution_count": null,
   "metadata": {},
   "outputs": [],
   "source": []
  }
 ],
 "metadata": {
  "kernelspec": {
   "display_name": "Python 3",
   "language": "python",
   "name": "python3"
  },
  "language_info": {
   "codemirror_mode": {
    "name": "ipython",
    "version": 3
   },
   "file_extension": ".py",
   "mimetype": "text/x-python",
   "name": "python",
   "nbconvert_exporter": "python",
   "pygments_lexer": "ipython3",
   "version": "3.5.4"
  }
 },
 "nbformat": 4,
 "nbformat_minor": 2
}
